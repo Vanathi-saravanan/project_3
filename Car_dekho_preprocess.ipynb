{
 "cells": [
  {
   "cell_type": "code",
   "execution_count": null,
   "id": "88fbb02f-1ae3-4825-95ce-a9c3cd35ecca",
   "metadata": {},
   "outputs": [],
   "source": [
    "final_dataframe.info()\n"
   ]
  },
  {
   "cell_type": "code",
   "execution_count": null,
   "id": "a6ff8a67-fa3b-44c2-be48-04d0d47153f8",
   "metadata": {},
   "outputs": [],
   "source": [
    "final_dataframe.dtypes"
   ]
  },
  {
   "cell_type": "code",
   "execution_count": null,
   "id": "f0086af5-0460-4179-95f8-d63d3416aa9d",
   "metadata": {},
   "outputs": [],
   "source": [
    "final_dataframe.describe()"
   ]
  },
  {
   "cell_type": "code",
   "execution_count": null,
   "id": "e13bcf6c-73b2-4791-b8fc-cc3e957249dd",
   "metadata": {},
   "outputs": [],
   "source": [
    "# Identify identical columns using a try-except to handle unhashable types\n",
    "identical_cols = []\n",
    "\n",
    "for col in final_dataframe.columns:\n",
    "    try:\n",
    "        if final_dataframe[col].nunique() == 1:\n",
    "            identical_cols.append(col)\n",
    "    except TypeError:\n",
    "        # Handle columns with unhashable types\n",
    "        if final_dataframe[col].apply(lambda x: str(x)).nunique() == 1:\n",
    "            identical_cols.append(col)\n",
    "\n",
    "# Drop the identical columns\n",
    "final_dataframe = final_dataframe.drop(columns=identical_cols)\n",
    "\n",
    "print(\"Identical columns:\", identical_cols)"
   ]
  },
  {
   "cell_type": "code",
   "execution_count": null,
   "id": "c76cee0f-0ab4-449d-9aa9-762d4655bf19",
   "metadata": {},
   "outputs": [],
   "source": [
    "num_columns = len(identical_cols)\n",
    "print(\"Number of identical columns:\", num_columns)"
   ]
  },
  {
   "cell_type": "code",
   "execution_count": null,
   "id": "88a16c92-1ab6-4f8a-a325-dff76bb9a1d2",
   "metadata": {},
   "outputs": [],
   "source": [
    "final_dataframe['specifications'].value_counts()"
   ]
  },
  {
   "cell_type": "code",
   "execution_count": null,
   "id": "02471ee8-f3f5-4797-b435-b27fa7015c3b",
   "metadata": {},
   "outputs": [],
   "source": [
    "# Function to extract specification key value \n",
    "def extract_spec_value(specifications, key):\n",
    "    # Loop through the list of dictionaries to find the matching key and return its value\n",
    "    for spec in specifications:\n",
    "        if spec['key'].lower() == key.lower():\n",
    "            return spec['value']\n",
    "    return None  # Return None if the key isn't found\n",
    "\n",
    "# Now, extract 'Mileage', 'Engine', 'Max Power', and 'Cargo Volumn' from the 'specifications' column\n",
    "final_dataframe['mileage'] = final_dataframe['specifications'].apply(lambda x: extract_spec_value(x, 'Mileage'))\n",
    "final_dataframe['engine_capacity'] = final_dataframe['specifications'].apply(lambda x: extract_spec_value(x, 'Engine'))\n",
    "final_dataframe['max_power'] = final_dataframe['specifications'].apply(lambda x: extract_spec_value(x, 'Max Power'))\n",
    "final_dataframe['cargo_volumn'] = final_dataframe['specifications'].apply(lambda x: extract_spec_value(x, 'Cargo Volumn'))\n",
    "\n",
    "# Check the result\n",
    "final_dataframe[['mileage', 'engine_capacity', 'max_power', 'cargo_volumn']].info()\n"
   ]
  },
  {
   "cell_type": "code",
   "execution_count": null,
   "id": "9f8a8ee4-836c-497a-8f5f-aac7e71f073a",
   "metadata": {},
   "outputs": [],
   "source": [
    "def clean_column(dataframe, column_name, unit_removal_chars=None, conversion_type=float):\n",
    "    if unit_removal_chars:\n",
    "        # Remove specified characters (like 'Kg', 'Kms', 'Lakh', etc.)\n",
    "        dataframe[column_name] = dataframe[column_name].replace(unit_removal_chars, '', regex=True)\n",
    "    \n",
    "    # Convert to numeric, handling errors by coercing invalid parsing to NaN\n",
    "    dataframe[column_name] = pd.to_numeric(dataframe[column_name], errors='coerce')\n",
    "    \n",
    "    return dataframe\n",
    "\n",
    "# List of columns to clean and convert\n",
    "columns_to_clean = {\n",
    "    'kmDriven': ['Kms'], \n",
    "    'price': ['₹', ' Lakh'],  \n",
    "    'kms_driven': ['Kms'],  \n",
    "    'kerb_weight': ['Kg'],\n",
    "    'gross_weight': ['Kg'],\n",
    "    'top_speed': [' kmph'],\n",
    "    'acceleration': [' Seconds'],\n",
    "    'length': ['mm'],\n",
    "    'width': ['mm'],\n",
    "    'height': ['mm'],\n",
    "    'wheel_base': ['mm'],\n",
    "    'turning_radius': ['m'],\n",
    "}"
   ]
  },
  {
   "cell_type": "code",
   "execution_count": null,
   "id": "afb66d75-00d0-49e7-b168-446c5906478e",
   "metadata": {},
   "outputs": [],
   "source": [
    "# Clean each specified column\n",
    "for column, chars in columns_to_clean.items():\n",
    "    final_dataframe = clean_column(final_dataframe, column, chars)\n",
    "final_dataframe.drop(columns=['owner', 'ownership', 'engine_displacement','kms_driven'], inplace=True)"
   ]
  },
  {
   "cell_type": "code",
   "execution_count": null,
   "id": "3183a5cb-3471-4962-9d84-c3fbecf52b42",
   "metadata": {},
   "outputs": [],
   "source": [
    "# Clean to retain only numeric values\n",
    "final_dataframe['registration_year'] = final_dataframe['registration_year'].replace('[^0-9]', '', regex=True)\n",
    "final_dataframe['registration_year'] = pd.to_numeric(final_dataframe['registration_year'], errors='coerce')\n",
    "final_dataframe['seats'] = final_dataframe['seats'].replace('[^0-9]', '', regex=True)\n",
    "final_dataframe['seats'] = pd.to_numeric(final_dataframe['seats'], errors='coerce')\n",
    "final_dataframe['engine_type'] = final_dataframe['engine_type'].str.replace('Engine', '', regex=False, case=False)\n",
    "final_dataframe['displacement'] = pd.to_numeric(final_dataframe['displacement'], errors='coerce')\n",
    "final_dataframe['ground_clearance_unladen'] = final_dataframe['ground_clearance_unladen'].str.replace('mm', '', regex=False, case=False)\n",
    "final_dataframe['cargo_volumn'] = final_dataframe['cargo_volumn'].replace('[^0-9]', '', regex=True)"
   ]
  },
  {
   "cell_type": "code",
   "execution_count": null,
   "id": "197e06d7-b04e-4e3d-85ca-a36b3a69f55a",
   "metadata": {},
   "outputs": [],
   "source": [
    "# Update 'city' column based on specified patterns\n",
    "city_mapping = {\n",
    "    'bangalore_cars - bangalore_cars': 'bangalore',\n",
    "    'delhi_cars - delhi_cars': 'delhi',\n",
    "    'jaipur_cars - jaipur_cars': 'jaipur',\n",
    "    'kolkata_cars - kolkata_cars': 'kolkata',\n",
    "    'hyderabad_cars - hyderabad_cars': 'hyderabad',\n",
    "    'chennai_cars - chennai_cars': 'chennai'\n",
    "}\n",
    "final_dataframe['city'] = final_dataframe['city'].replace(city_mapping)"
   ]
  },
  {
   "cell_type": "code",
   "execution_count": null,
   "id": "24cdd2c1-213b-492e-b5d7-771aaf267a1c",
   "metadata": {},
   "outputs": [],
   "source": [
    "# Dropping features with high missing values\n",
    "final_dataframe.drop(columns=['gross_weight', 'compression_ratio', 'turning_radius', 'top_speed', 'borex_stroke', 'super_charger','fuel_type'], inplace=True)"
   ]
  },
  {
   "cell_type": "code",
   "execution_count": null,
   "id": "6fa3b08e-89d5-41d4-bcf7-f9628dd5692e",
   "metadata": {},
   "outputs": [],
   "source": [
    "features_to_drop = ['rto','model', 'color', 'value_configuration','fuel_suppy_system','registration_year','seats','gear_box','length','height','width',\n",
    "                    'turbo_charger', 'front_brake_type', 'rear_brake_type', 'steering_type','ground_clearance_unladen','kerb_weight','alloy_wheel_size',\n",
    "                    'tyre_type', 'cargo_volumn','fuel_suppy_system','turbo_charger','rear_tread','front_tread','acceleration','specifications','wheel_base',\n",
    "                    'drive_type','no_door_numbers','steering_type','front_brake_type','rear_brake_type','values_per_cylinder','max_torque','engine_type']\n",
    "\n",
    "final_dataframe = final_dataframe.drop(columns=features_to_drop)\n"
   ]
  },
  {
   "cell_type": "code",
   "execution_count": null,
   "id": "900c4f61-22fd-4315-be41-44bdcc0528c8",
   "metadata": {},
   "outputs": [],
   "source": [
    "# Remove unwanted text and convert to float\n",
    "final_dataframe['mileage'] = final_dataframe['mileage'].str.replace(r'[^\\d.]+', '', regex=True).astype(float)\n",
    "final_dataframe['engine_capacity'] = final_dataframe['engine_capacity'].str.replace(r'[^\\d.]+', '', regex=True).astype(float)\n",
    "final_dataframe['max_power'] = final_dataframe['max_power'].str.replace(r'[^\\d.]+', '', regex=True).astype(float)"
   ]
  },
  {
   "cell_type": "code",
   "execution_count": null,
   "id": "e9078c1a-9a81-43c7-b04f-f3665f5d566a",
   "metadata": {},
   "outputs": [],
   "source": [
    "# convert object columns to numerical\n",
    "final_dataframe['seating_capacity'] = pd.to_numeric(final_dataframe['seating_capacity'], errors='coerce')\n",
    "# Check the data types after conversion\n",
    "print(final_dataframe.dtypes)"
   ]
  },
  {
   "cell_type": "markdown",
   "id": "f26422e5-cff9-4583-b8a3-00d3839f40a9",
   "metadata": {},
   "source": [
    "## Handling missing values"
   ]
  },
  {
   "cell_type": "code",
   "execution_count": null,
   "id": "0eed956b-a272-4e5d-8ef7-d059ec522d4f",
   "metadata": {},
   "outputs": [],
   "source": [
    "final_dataframe.isnull().sum()"
   ]
  },
  {
   "cell_type": "code",
   "execution_count": null,
   "id": "e471b82b-1180-450d-b9bc-48f38be6eeae",
   "metadata": {},
   "outputs": [],
   "source": [
    "final_dataframe['price'] = final_dataframe['price'].fillna(final_dataframe['price'].median())\n",
    "final_dataframe['year_of_manufacture'] = final_dataframe['year_of_manufacture'].fillna(final_dataframe['year_of_manufacture'].median())\n",
    "final_dataframe['displacement'] = final_dataframe['displacement'].fillna(final_dataframe['displacement'].median())\n",
    "final_dataframe['insurance_validity'] = final_dataframe['insurance_validity'].fillna(final_dataframe['insurance_validity'].mode()[0])\n",
    "final_dataframe['engine_capacity'] = final_dataframe['engine_capacity'].fillna(final_dataframe['engine_capacity'].mode()[0])\n",
    "final_dataframe['seating_capacity'] = final_dataframe['seating_capacity'].fillna(final_dataframe['seating_capacity'].mode()[0])\n"
   ]
  },
  {
   "cell_type": "code",
   "execution_count": null,
   "id": "bb3cb76a-7d92-4e0b-8cd7-b0cffc2e19b5",
   "metadata": {},
   "outputs": [],
   "source": [
    "# Handle missing values for 'mileage'\n",
    "if final_dataframe['mileage'].skew() > 1:  # If highly skewed (positively skewed in this case)\n",
    "    final_dataframe['mileage'] = final_dataframe['mileage'].fillna(final_dataframe['mileage'].median())\n",
    "else:  # If not skewed, you can use mean\n",
    "    final_dataframe['mileage'] = final_dataframe['mileage'].fillna(final_dataframe['mileage'].mean())\n"
   ]
  },
  {
   "cell_type": "code",
   "execution_count": null,
   "id": "e7b1e838-b421-4d04-b444-dfa029484ca2",
   "metadata": {},
   "outputs": [],
   "source": [
    "# Handle missing values for 'max_power'\n",
    "if final_dataframe['max_power'].skew() > 1:  # If highly skewed\n",
    "    final_dataframe['max_power'] = final_dataframe['max_power'].fillna(final_dataframe['max_power'].median())\n",
    "else:  # If not skewed, you can use mean\n",
    "    final_dataframe['max_power'] = final_dataframe['max_power'].fillna(final_dataframe['max_power'].mean())"
   ]
  },
  {
   "cell_type": "code",
   "execution_count": null,
   "id": "d82b4257-4de5-4a88-96bf-3a3d34f82d5d",
   "metadata": {},
   "outputs": [],
   "source": [
    "# Handle missing values for 'no_of_cylinder' (use mode as it's categorical)\n",
    "final_dataframe['no_of_cylinder'] = final_dataframe['no_of_cylinder'].fillna(final_dataframe['no_of_cylinder'].mode()[0])\n"
   ]
  },
  {
   "cell_type": "markdown",
   "id": "694a8b2f-ba4d-49cd-9dd6-b4fc70fce811",
   "metadata": {},
   "source": [
    "## Label encoding"
   ]
  },
  {
   "cell_type": "code",
   "execution_count": null,
   "id": "7b96588f-9bd9-4a18-8a5b-5aeb00d6444d",
   "metadata": {},
   "outputs": [],
   "source": [
    "final_dataframe['oem'].unique()"
   ]
  },
  {
   "cell_type": "code",
   "execution_count": null,
   "id": "b97ac1a1-8989-40ec-af6a-5171602ef8fc",
   "metadata": {},
   "outputs": [],
   "source": [
    "### Replacing 'oem' values with ascending numbers\n",
    "final_dataframe['oem'].replace(['Maruti', 'Ford', 'Tata', 'Hyundai', 'Jeep', 'Datsun', 'Honda',\n",
    "                                'Mahindra', 'Mercedes-Benz', 'BMW', 'Renault', 'Audi', 'Toyota',\n",
    "                                'Mini', 'Kia', 'Skoda', 'Volkswagen', 'Volvo', 'MG', 'Nissan',\n",
    "                                'Fiat', 'Mahindra Ssangyong', 'Mitsubishi', 'Jaguar', 'Land Rover',\n",
    "                                'Chevrolet', 'Citroen', 'Opel', 'Mahindra Renault', 'Isuzu',\n",
    "                                'Lexus', 'Porsche', 'Hindustan Motors'],\n",
    "                               [0, 1, 2, 3, 4, 5, 6, 7, 8, 9, 10, 11, 12, 13, 14, 15, 16, 17, 18, 19,\n",
    "                                20, 21, 22, 23, 24, 25, 26, 27, 28, 29, 30,31,32], inplace=True)\n"
   ]
  },
  {
   "cell_type": "code",
   "execution_count": null,
   "id": "a45d31f1-465e-4207-8294-d11fe3adedd5",
   "metadata": {},
   "outputs": [],
   "source": [
    "final_dataframe['fuelType'].unique()"
   ]
  },
  {
   "cell_type": "code",
   "execution_count": null,
   "id": "0bae7cce-bf9a-401b-b3ca-531232754251",
   "metadata": {},
   "outputs": [],
   "source": [
    "# Replacing 'fuelType' values with numbers starting from 0\n",
    "final_dataframe['fuelType'].replace(['Petrol', 'Diesel', 'Lpg', 'Cng', 'Electric'], [0, 1, 2, 3, 4], inplace=True)\n"
   ]
  },
  {
   "cell_type": "code",
   "execution_count": null,
   "id": "660b5241-ad39-4759-97f2-d82e9c4fe9d7",
   "metadata": {},
   "outputs": [],
   "source": [
    "final_dataframe['bodyType'].unique()"
   ]
  },
  {
   "cell_type": "code",
   "execution_count": null,
   "id": "afeb7f0c-27b7-4e8b-9e75-f14c6f50b337",
   "metadata": {},
   "outputs": [],
   "source": [
    "# Replace missing or empty values with -1 and then perform label encoding\n",
    "final_dataframe['bodyType'].replace(['Hatchback', 'SUV', 'Sedan', 'MUV', 'Coupe', 'Minivans',\n",
    "                                     'Pickup Trucks', 'Convertibles', 'Hybrids', 'Wagon', ''], \n",
    "                                    [0, 1, 2, 3, 4, 5, 6, 7, 8, 9, -1], inplace=True)\n"
   ]
  },
  {
   "cell_type": "code",
   "execution_count": null,
   "id": "26169f85-d2e2-40a9-8b5f-b1dfeeae35b1",
   "metadata": {},
   "outputs": [],
   "source": [
    "final_dataframe['transmission'].unique()"
   ]
  },
  {
   "cell_type": "code",
   "execution_count": null,
   "id": "1c9a512d-149f-484d-9399-642dee0deb34",
   "metadata": {},
   "outputs": [],
   "source": [
    "# Replace 'Manual' with 0 and 'Automatic' with 1 in the 'transmission' column\n",
    "final_dataframe['transmission'].replace(['Manual', 'Automatic'], [0, 1], inplace=True)"
   ]
  },
  {
   "cell_type": "code",
   "execution_count": null,
   "id": "3dd7f135-b091-4e8e-abf7-35215653c59d",
   "metadata": {},
   "outputs": [],
   "source": [
    "final_dataframe['insurance_validity'].unique()"
   ]
  },
  {
   "cell_type": "code",
   "execution_count": null,
   "id": "5fd4ec46-fed5-4070-b201-dadf77eeb119",
   "metadata": {},
   "outputs": [],
   "source": [
    "# Replace the insurance types with numeric values starting from 0\n",
    "final_dataframe['insurance_validity'].replace(['Third Party insurance', 'Comprehensive', 'Third Party', 'Zero Dep', '2', '1', 'Not Available'],\n",
    "                                              [0, 1, 2, 3, 4, 5, 6], inplace=True)"
   ]
  },
  {
   "cell_type": "code",
   "execution_count": null,
   "id": "4d0a6e54-4870-4875-9887-7aeb3695fedc",
   "metadata": {},
   "outputs": [],
   "source": [
    "final_dataframe['city'].unique()"
   ]
  },
  {
   "cell_type": "code",
   "execution_count": null,
   "id": "1d54db33-f36e-400a-a12d-5d363cb1946d",
   "metadata": {},
   "outputs": [],
   "source": [
    "final_dataframe['city'].replace(['bangalore', 'chennai', 'delhi', 'hyderabad', 'jaipur', 'kolkata'],[0, 1, 2, 3, 4, 5], inplace=True)"
   ]
  },
  {
   "cell_type": "markdown",
   "id": "52ed422e-77ca-463c-83b6-131e5e792dbe",
   "metadata": {},
   "source": [
    "## Handling outliers"
   ]
  },
  {
   "cell_type": "code",
   "execution_count": null,
   "id": "b622721c-31f5-4388-9a22-5f04aa356c8a",
   "metadata": {},
   "outputs": [],
   "source": [
    "def outlier(final_dataframe,column):\n",
    "  q1= final_dataframe[column].quantile(0.25)\n",
    "  q3= final_dataframe[column].quantile(0.75)\n",
    "\n",
    "  iqr= q3-q1\n",
    "\n",
    "  upper_threshold= q3 + (1.5*iqr)\n",
    "  lower_threshold= q1 - (1.5*iqr)\n",
    "\n",
    "  final_dataframe[column]= final_dataframe[column].clip(lower_threshold, upper_threshold)"
   ]
  },
  {
   "cell_type": "markdown",
   "id": "e9930416-cd64-4709-9a32-9ec332a08c7a",
   "metadata": {},
   "source": [
    "## Log transformation"
   ]
  },
  {
   "cell_type": "code",
   "execution_count": null,
   "id": "33bf9d62-f6ff-471a-a090-aa60618d088f",
   "metadata": {},
   "outputs": [],
   "source": [
    "# Applying log transformation\n",
    "final_dataframe[\"kmDriven\"] = np.log1p(final_dataframe[\"kmDriven\"])\n",
    "final_dataframe[\"max_power\"] = np.log1p(final_dataframe[\"max_power\"])\n",
    "final_dataframe[\"no_of_cylinder\"] = np.log1p(final_dataframe[\"no_of_cylinder\"])\n"
   ]
  },
  {
   "cell_type": "markdown",
   "id": "8d9b8c1f-2231-4876-9a6b-801d0328978a",
   "metadata": {},
   "source": [
    "## Model preparation"
   ]
  },
  {
   "cell_type": "code",
   "execution_count": null,
   "id": "696cf9ba-06f1-431c-90d6-736bcde78738",
   "metadata": {},
   "outputs": [],
   "source": [
    "from sklearn.model_selection import train_test_split, cross_val_score, GridSearchCV\n",
    "from sklearn.linear_model import LinearRegression, Lasso, Ridge\n",
    "from sklearn.tree import DecisionTreeRegressor\n",
    "from sklearn.ensemble import RandomForestRegressor, GradientBoostingRegressor\n",
    "from sklearn.metrics import mean_absolute_error, mean_squared_error, r2_score\n",
    "\n",
    "##train and test data split (80% train, 20% test)\n",
    "X_train, X_test, y_train, y_test = train_test_split(X, Y, test_size=0.2, random_state=42)\n"
   ]
  },
  {
   "cell_type": "code",
   "execution_count": null,
   "id": "99da16af-808f-433f-b10f-14dd875c57cb",
   "metadata": {},
   "outputs": [],
   "source": [
    "# Define models for training and cross-validation\n",
    "models = {\n",
    "    'Linear Regression': LinearRegression(),\n",
    "    'Decision Tree': DecisionTreeRegressor(random_state=42),\n",
    "    'Random Forest': RandomForestRegressor(random_state=42),\n",
    "    'Gradient Boosting': GradientBoostingRegressor(random_state=42),\n",
    "    'Lasso': Lasso(),\n",
    "    'Ridge': Ridge()\n",
    "}"
   ]
  },
  {
   "cell_type": "markdown",
   "id": "60751cf6-7b75-4192-8131-2f3036845610",
   "metadata": {},
   "source": [
    "## Cross validation"
   ]
  },
  {
   "cell_type": "code",
   "execution_count": null,
   "id": "77a667f6-87cc-410c-b1a2-ee944e8478f9",
   "metadata": {},
   "outputs": [],
   "source": [
    "# Cross-validation and performance evaluation on training data\n",
    "cv_results = {\n",
    "    'Model': [],\n",
    "    'Mean CV MAE': [],\n",
    "    'Mean CV MSE': [],\n",
    "    'Mean CV R²': []\n",
    "}\n",
    "\n",
    "# cross-validation for each model\n",
    "for model_name, model in models.items():\n",
    "    print(f\"Evaluating {model_name} with cross-validation...\")\n",
    "\n",
    "    # cross-validation\n",
    "    cv_mae = cross_val_score(model, X_train, y_train, cv=5, scoring='neg_mean_absolute_error')\n",
    "    cv_mse = cross_val_score(model, X_train, y_train, cv=5, scoring='neg_mean_squared_error')\n",
    "    cv_r2 = cross_val_score(model, X_train, y_train, cv=5, scoring='r2')\n",
    "\n",
    "    # Store the results\n",
    "    cv_results['Model'].append(model_name)\n",
    "    cv_results['Mean CV MAE'].append(np.mean(-cv_mae))\n",
    "    cv_results['Mean CV MSE'].append(np.mean(-cv_mse))\n",
    "    cv_results['Mean CV R²'].append(np.mean(cv_r2))\n",
    "\n",
    "# Create a DataFrame to summarize cross-validation results\n",
    "cv_results_df = pd.DataFrame(cv_results)\n",
    "print(\"Cross-Validation Results:\")\n",
    "print(cv_results_df)"
   ]
  },
  {
   "cell_type": "markdown",
   "id": "a49d5df2-009a-4a4e-be60-02b05763916c",
   "metadata": {},
   "source": [
    "## Hyerparameter tunning"
   ]
  },
  {
   "cell_type": "code",
   "execution_count": null,
   "id": "7482aa9a-03c6-4596-aedc-004cdb085e22",
   "metadata": {},
   "outputs": [],
   "source": [
    "# Define hyperparameter grids for each model\n",
    "param_grids = {\n",
    "    'Linear Regression': {},\n",
    "    'Decision Tree': {\n",
    "        'max_depth': [None, 10, 20],\n",
    "        'min_samples_split': [2, 5, 10],\n",
    "        'min_samples_leaf': [1, 2, 4]},\n",
    "    \n",
    "    'Random Forest': {\n",
    "        'n_estimators': [100, 200],\n",
    "        'max_depth': [None, 10, 20],\n",
    "        'min_samples_split': [2, 5]},\n",
    "    \n",
    "    'Gradient Boosting': {\n",
    "        'n_estimators': [100, 200],\n",
    "        'learning_rate': [0.01, 0.05, 0.1],\n",
    "        'max_depth': [3, 5, 10]},\n",
    "    \n",
    "    'Lasso': {\n",
    "        'alpha': [0.01, 0.1, 1]},\n",
    "    \n",
    "    'Ridge': {\n",
    "        'alpha': [0.01, 0.1, 1]}}"
   ]
  },
  {
   "cell_type": "code",
   "execution_count": null,
   "id": "dafe37a8-f421-4ccd-8ee7-7371af5d1a1d",
   "metadata": {},
   "outputs": [],
   "source": [
    "# Hyperparameter tuning for each model\n",
    "best_models = {}\n",
    "for model_name, model in models.items():\n",
    "    print(f\"Tuning {model_name}...\")\n",
    "    \n",
    "    # Perform grid search\n",
    "    grid_search = GridSearchCV(model, param_grids[model_name], cv=5, n_jobs=-1, scoring='neg_mean_absolute_error')\n",
    "    grid_search.fit(X_train, y_train)\n",
    "    \n",
    "    # Save the best model and parameters\n",
    "    best_models[model_name] = grid_search.best_estimator_\n",
    "    print(f\"Best Parameters for {model_name}: {grid_search.best_params_}\")\n",
    "\n",
    "# Model Evaluation and Comparison\n",
    "results = {\n",
    "    'Model': [],\n",
    "    'MAE': [],\n",
    "    'MSE': [],\n",
    "    'R²': []}\n"
   ]
  },
  {
   "cell_type": "markdown",
   "id": "e17e46a6-22dd-4081-b654-78b4994d61d1",
   "metadata": {},
   "source": [
    "## Model evaluation"
   ]
  },
  {
   "cell_type": "code",
   "execution_count": null,
   "id": "c3863193-d1d2-4bc7-a844-423914f5c13e",
   "metadata": {},
   "outputs": [],
   "source": [
    "# Evaluate best models on the test set\n",
    "for model_name, model in best_models.items():\n",
    "    model.fit(X_train, y_train)\n",
    "    y_pred = model.predict(X_test)\n",
    "\n",
    "    mae = mean_absolute_error(y_test, y_pred)\n",
    "    mse = mean_squared_error(y_test, y_pred)\n",
    "    r2 = r2_score(y_test, y_pred)\n",
    "\n",
    "    # Append results for comparison\n",
    "    results['Model'].append(model_name)\n",
    "    results['MAE'].append(mae)\n",
    "    results['MSE'].append(mse)\n",
    "    results['R²'].append(r2)\n"
   ]
  },
  {
   "cell_type": "code",
   "execution_count": null,
   "id": "eb7f2ade-514e-4647-8fd6-fac7bf2b9db3",
   "metadata": {},
   "outputs": [],
   "source": [
    "# DataFrame for easy comparison\n",
    "results_df = pd.DataFrame(results)\n",
    "print(\"Model Evaluation Results:\")\n",
    "print(results_df)\n",
    "\n",
    "# Selecting the best model based on R² or lowest MAE/MSE\n",
    "best_model = results_df.loc[results_df['R²'].idxmax()]  # Or idxmin() for MAE/MSE\n",
    "print(f\"Best Model: {best_model['Model']}\")"
   ]
  },
  {
   "cell_type": "code",
   "execution_count": null,
   "id": "ccb3bb8a-71a3-45e9-a7ce-157eca4e5c31",
   "metadata": {},
   "outputs": [],
   "source": [
    "import pickle\n",
    "best_model = best_models['Gradient Boosting']\n",
    "with open('best_model.pkl', 'wb') as f:\n",
    "    pickle.dump(best_model, f)\n",
    "\n",
    "print(\"Gradient Boosting model saved successfully!\")"
   ]
  },
  {
   "cell_type": "code",
   "execution_count": null,
   "id": "fa49dbcc-6731-4a0c-aa42-7efd2dff4724",
   "metadata": {},
   "outputs": [],
   "source": []
  }
 ],
 "metadata": {
  "kernelspec": {
   "display_name": "Python 3 (ipykernel)",
   "language": "python",
   "name": "python3"
  },
  "language_info": {
   "codemirror_mode": {
    "name": "ipython",
    "version": 3
   },
   "file_extension": ".py",
   "mimetype": "text/x-python",
   "name": "python",
   "nbconvert_exporter": "python",
   "pygments_lexer": "ipython3",
   "version": "3.12.4"
  }
 },
 "nbformat": 4,
 "nbformat_minor": 5
}
