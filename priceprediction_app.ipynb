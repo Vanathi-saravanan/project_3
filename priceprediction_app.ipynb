{
 "cells": [
  {
   "cell_type": "code",
   "execution_count": 1,
   "id": "b9458d18-86a2-4cfc-9601-259eb13a0e1a",
   "metadata": {},
   "outputs": [],
   "source": [
    "import streamlit as st\n",
    "import numpy as np\n",
    "import pandas as pd\n",
    "import pickle"
   ]
  },
  {
   "cell_type": "code",
   "execution_count": 2,
   "id": "6c12c1b9-c617-4897-8fb4-c3535795baa0",
   "metadata": {},
   "outputs": [],
   "source": [
    "# Load the saved model\n",
    "with open('best_model.pkl', 'rb') as f:\n",
    "    best_model = pickle.load(f)"
   ]
  },
  {
   "cell_type": "code",
   "execution_count": 3,
   "id": "3609952a-397b-4bc6-9e34-e7d1a146f2df",
   "metadata": {},
   "outputs": [],
   "source": [
    "# Define encoding dictionary at the top level\n",
    "encoding_dict = {\n",
    "    \"oem\": {\"Maruti\": 0, \"Ford\": 1, \"Tata\": 2, \"Hyundai\": 3, \"Jeep\": 4, \"Datsun\": 5, \"Honda\": 6,\n",
    "             \"Mahindra\": 7, \"Mercedes-Benz\": 8, \"BMW\": 9, \"Renault\": 10, \"Audi\": 11, \"Toyota\": 12,\n",
    "             \"Mini\": 13, \"Kia\": 14, \"Skoda\": 15, \"Volkswagen\": 16, \"Volvo\": 17, \"MG\": 18, \"Nissan\": 19,\n",
    "             \"Fiat\": 20, \"Mahindra Ssangyong\": 21, \"Mitsubishi\": 22, \"Jaguar\": 23, \"Land Rover\": 24,\n",
    "             \"Chevrolet\": 25, \"Citroen\": 26, \"Opel\": 27, \"Mahindra Renault\": 28, \"Isuzu\": 29,\n",
    "             \"Lexus\": 30, \"Porsche\": 31, \"Hindustan Motors\": 32},\n",
    "    \"fuelType\": {\"Petrol\": 0, \"Diesel\": 1, \"Lpg\": 2, \"Cng\": 3, \"Electric\": 4},\n",
    "    \"bodyType\": {\"Hatchback\": 0, \"SUV\": 1, \"Sedan\": 2, \"MUV\": 3, \"Coupe\": 4, \"Minivans\": 5,\n",
    "                 \"Pickup Trucks\": 6, \"Convertibles\": 7, \"Hybrids\": 8, \"Wagon\": 9, \"\": -1},\n",
    "    \"transmission\": {\"Manual\": 0, \"Automatic\": 1},\n",
    "    \"insurance_validity\": {\"Third Party insurance\": 0, \"Comprehensive\": 1, \"Third Party\": 2,\n",
    "                            \"Zero Dep\": 3, \"2\": 4, \"1\": 5, \"Not Available\": 6},\n",
    "    \"city\": {\"bangalore\": 0, \"chennai\": 1, \"delhi\": 2, \"hyderabad\": 3, \"jaipur\": 4, \"kolkata\": 5}}"
   ]
  },
  {
   "cell_type": "code",
   "execution_count": 4,
   "id": "821e1f1c-16a3-4ed5-8944-008a34e160e7",
   "metadata": {},
   "outputs": [
    {
     "name": "stderr",
     "output_type": "stream",
     "text": [
      "2025-02-06 17:56:37.166 WARNING streamlit.runtime.scriptrunner_utils.script_run_context: Thread 'MainThread': missing ScriptRunContext! This warning can be ignored when running in bare mode.\n",
      "2025-02-06 17:56:37.831 \n",
      "  \u001b[33m\u001b[1mWarning:\u001b[0m to view this Streamlit app on a browser, run it with the following\n",
      "  command:\n",
      "\n",
      "    streamlit run C:\\Users\\vanat\\anaconda3\\Lib\\site-packages\\ipykernel_launcher.py [ARGUMENTS]\n",
      "2025-02-06 17:56:37.839 Thread 'MainThread': missing ScriptRunContext! This warning can be ignored when running in bare mode.\n",
      "2025-02-06 17:56:37.839 Thread 'MainThread': missing ScriptRunContext! This warning can be ignored when running in bare mode.\n",
      "2025-02-06 17:56:37.841 Thread 'MainThread': missing ScriptRunContext! This warning can be ignored when running in bare mode.\n",
      "2025-02-06 17:56:37.844 Thread 'MainThread': missing ScriptRunContext! This warning can be ignored when running in bare mode.\n",
      "2025-02-06 17:56:37.844 Thread 'MainThread': missing ScriptRunContext! This warning can be ignored when running in bare mode.\n",
      "2025-02-06 17:56:37.855 Session state does not function when running a script without `streamlit run`\n",
      "2025-02-06 17:56:37.857 Thread 'MainThread': missing ScriptRunContext! This warning can be ignored when running in bare mode.\n",
      "2025-02-06 17:56:37.857 Thread 'MainThread': missing ScriptRunContext! This warning can be ignored when running in bare mode.\n",
      "2025-02-06 17:56:37.862 Thread 'MainThread': missing ScriptRunContext! This warning can be ignored when running in bare mode.\n",
      "2025-02-06 17:56:37.864 Thread 'MainThread': missing ScriptRunContext! This warning can be ignored when running in bare mode.\n",
      "2025-02-06 17:56:37.864 Thread 'MainThread': missing ScriptRunContext! This warning can be ignored when running in bare mode.\n",
      "2025-02-06 17:56:37.869 Thread 'MainThread': missing ScriptRunContext! This warning can be ignored when running in bare mode.\n",
      "2025-02-06 17:56:37.869 Thread 'MainThread': missing ScriptRunContext! This warning can be ignored when running in bare mode.\n",
      "2025-02-06 17:56:37.872 Thread 'MainThread': missing ScriptRunContext! This warning can be ignored when running in bare mode.\n"
     ]
    }
   ],
   "source": [
    "# Function to encode user inputs\n",
    "def encode_inputs(user_inputs):\n",
    "    for feature, mapping in encoding_dict.items():\n",
    "        if feature in user_inputs:\n",
    "            user_inputs[feature] = mapping.get(user_inputs[feature], -1)\n",
    "    \n",
    "    # Apply log transformation to numerical features\n",
    "    user_inputs[\"kmDriven\"] = np.log1p(user_inputs[\"kmDriven\"])\n",
    "    user_inputs[\"max_power\"] = np.log1p(user_inputs[\"max_power\"])\n",
    "    user_inputs[\"no_of_cylinder\"] = np.log1p(user_inputs[\"no_of_cylinder\"])\n",
    "    \n",
    "    return user_inputs\n",
    "\n",
    "# Load the model\n",
    "with open('best_model.pkl', 'rb') as f:\n",
    "    best_model = pickle.load(f)\n",
    "\n",
    "# Sidebar Navigation\n",
    "st.sidebar.title(\"Navigation\")\n",
    "page = st.sidebar.radio(\"Go to\", [\"Home\", \"Prediction\"])\n",
    "\n",
    "if page == \"Home\":\n",
    "    st.title(\"Used Car Price Prediction\")\n",
    "    st.write(\"\"\"\n",
    "        Welcome to the Used Car Price Prediction App!  \n",
    "        This app allows you to predict the price of a used car based on various features.  \n",
    "        Simply fill in the details of the car you want to predict the price for.\n",
    "    \"\"\")\n",
    "\n",
    "elif page == \"Prediction\":\n",
    "    st.title(\"Car Price Prediction\")\n",
    "    \n",
    "    col1, col2 = st.columns(2)\n",
    "    \n",
    "    with col1:\n",
    "        oem = st.selectbox(\"Select OEM\", list(encoding_dict[\"oem\"].keys()))\n",
    "        fuelType = st.selectbox(\"Select Fuel Type\", list(encoding_dict[\"fuelType\"].keys()))\n",
    "        bodyType = st.selectbox(\"Select Body Type\", list(encoding_dict[\"bodyType\"].keys()))\n",
    "        transmission = st.selectbox(\"Select Transmission\", list(encoding_dict[\"transmission\"].keys()))\n",
    "        insurance_validity = st.selectbox(\"Select Insurance Validity\", list(encoding_dict[\"insurance_validity\"].keys()))\n",
    "        city = st.selectbox(\"Select City\", list(encoding_dict[\"city\"].keys()))\n",
    "    \n",
    "    with col2:\n",
    "        ownerNo = st.number_input(\"Owner Number\", min_value=1, step=1)\n",
    "        no_of_cylinder = st.number_input(\"Number of Cylinders\", min_value=1, step=1)\n",
    "        seating_capacity = st.number_input(\"Seating Capacity\", min_value=2, step=1)\n",
    "        modelYear = st.slider(\"Model Year\", min_value=2000, max_value=2025, step=1)\n",
    "        kmDriven = st.slider(\"Kilometers Driven\", min_value=0.0, max_value=500000.0, step=1000.0)\n",
    "        max_power = st.slider(\"Max Power (bhp)\", min_value=0.0, max_value=500.0, step=0.1)\n",
    "        mileage = st.slider(\"Mileage (kmpl)\", min_value=0.0, max_value=50.0, step=0.1)\n",
    "        engine_capacity = st.slider(\"Engine Capacity (cc)\", min_value=0.0, max_value=5000.0, step=1.0)\n",
    "    \n",
    "    # Collect user inputs into a dictionary\n",
    "    user_inputs = {\n",
    "        \"oem\": oem, \"fuelType\": fuelType, \"bodyType\": bodyType, \"transmission\": transmission,\n",
    "        \"insurance_validity\": insurance_validity, \"city\": city, \"modelYear\": modelYear,\n",
    "        \"kmDriven\": kmDriven, \"ownerNo\": ownerNo, \"max_power\": max_power,\n",
    "        \"no_of_cylinder\": no_of_cylinder, \"seating_capacity\": seating_capacity,\n",
    "        \"mileage\": mileage, \"engine_capacity\": engine_capacity\n",
    "    }\n",
    "    \n",
    "    if user_inputs:\n",
    "        # Convert inputs\n",
    "        transformed_inputs = encode_inputs(user_inputs)\n",
    "    \n",
    "        # Predict Button\n",
    "        if st.button(\"Predict Price\"):\n",
    "            prediction = best_model.predict([list(transformed_inputs.values())])\n",
    "            st.write(f\"The predicted price of the car is: ₹{prediction[0]:,.2f} Lakhs\")\n"
   ]
  },
  {
   "cell_type": "code",
   "execution_count": null,
   "id": "a9c1dde3-9792-4239-b404-a2f1dcba19de",
   "metadata": {},
   "outputs": [],
   "source": []
  },
  {
   "cell_type": "code",
   "execution_count": null,
   "id": "59a3bd86-c9e3-4bb4-8eeb-6edb630b0d59",
   "metadata": {},
   "outputs": [],
   "source": []
  }
 ],
 "metadata": {
  "kernelspec": {
   "display_name": "Python 3 (ipykernel)",
   "language": "python",
   "name": "python3"
  },
  "language_info": {
   "codemirror_mode": {
    "name": "ipython",
    "version": 3
   },
   "file_extension": ".py",
   "mimetype": "text/x-python",
   "name": "python",
   "nbconvert_exporter": "python",
   "pygments_lexer": "ipython3",
   "version": "3.12.4"
  }
 },
 "nbformat": 4,
 "nbformat_minor": 5
}
